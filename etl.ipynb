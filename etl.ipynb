{
 "cells": [
  {
   "cell_type": "code",
   "execution_count": 83,
   "metadata": {},
   "outputs": [],
   "source": [
    "#import libs\n",
    "import pyodbc \n",
    "import pandas as pd\n",
    "import pandas.io.sql as psql\n",
    "from sqlalchemy.engine import URL\n",
    "import numpy as np\n",
    "import psycopg2.extras as extras"
   ]
  },
  {
   "cell_type": "code",
   "execution_count": 84,
   "metadata": {},
   "outputs": [],
   "source": [
    "#extract data from source\n",
    "connection_string = \"DRIVER={SQL Server};SERVER=DESKTOP-MA71DLJ;DATABASE=PROJECT_PIPELINE;Trusted_Connection=yes;\"\n",
    "connection_url = URL.create(\"mssql+pyodbc\", query={\"odbc_connect\": connection_string})\n",
    "from sqlalchemy import create_engine\n",
    "engine = create_engine(connection_url)\n",
    "sql= 'SELECT * FROM dbo.sales'\n",
    "df= psql.read_sql(sql,engine)\n"
   ]
  },
  {
   "cell_type": "code",
   "execution_count": 85,
   "metadata": {},
   "outputs": [],
   "source": [
    "#add Surrogate Key\n",
    "df.insert(0, 'TransactionId', range(1,1+len(df)))\n",
    "df['Date']=df['Date'].str.replace('00:00:00','')"
   ]
  },
  {
   "cell_type": "code",
   "execution_count": 86,
   "metadata": {},
   "outputs": [],
   "source": [
    "#Transform and split dataframe\n",
    "Geo =  df.groupby(['Area_Code','State','Market','Market_Size']).size().reset_index().rename(columns={0: 'Count'})\n",
    "Product = df.groupby(['ProductId','Product_Type','Product','Type']).size().reset_index().rename(columns={0: 'Count'})\n",
    "for column_name in Product.columns:\n",
    "    if column_name != 'Count' and column_name != 'ProductId':\n",
    "        df.drop([column_name], axis =1,inplace= True)\n",
    "for column_name in Geo.columns:\n",
    "    if column_name != 'Count' and column_name != 'Area_Code':\n",
    "        df.drop([column_name], axis =1,inplace= True)\n",
    "Transactions= df.copy()\n",
    "Transactions['Date'] = Transactions['Date'].apply(lambda x: x.strip('.0000000'))\n"
   ]
  },
  {
   "cell_type": "code",
   "execution_count": 87,
   "metadata": {},
   "outputs": [],
   "source": [
    "#Load into Postgres\n",
    "import psycopg2\n",
    "conn= psycopg2.connect(\"host= localhost dbname = PROJECT_PIPELINE user = etl password = demopass\" )\n",
    "cur = conn.cursor()\n",
    "cur.execute(\"\"\"\n",
    "    CREATE TABLE Dim_Product(\n",
    "    ProductId integer,\n",
    "    Product_Type text,\n",
    "    Product text,\n",
    "    Type text,\n",
    "    Count integer,\n",
    "    PRIMARY KEY (ProductId)\n",
    ")\n",
    "\"\"\")"
   ]
  },
  {
   "cell_type": "code",
   "execution_count": 88,
   "metadata": {},
   "outputs": [],
   "source": [
    "cur.execute(\"\"\"\n",
    "    CREATE TABLE Dim_Geo(\n",
    "    Area_Code integer,\n",
    "    State text,\n",
    "    Market text,\n",
    "    Market_Size text,\n",
    "    Count integer,\n",
    "    PRIMARY KEY(Area_Code)\n",
    ")\n",
    "\"\"\")"
   ]
  },
  {
   "cell_type": "code",
   "execution_count": 89,
   "metadata": {},
   "outputs": [],
   "source": [
    "cur.execute(\"\"\"\n",
    "   CREATE TABLE Transactions(\n",
    "    TransactionId integer,\n",
    "    Area_Code integer,\n",
    "    ProductId integer,\n",
    "    Profit decimal,\n",
    "    Margin decimal,\n",
    "    Sales decimal,\n",
    "    COGS  decimal,\n",
    "    Total_Expenses decimal,\n",
    "    Marketing decimal,\n",
    "    Inventory decimal,\n",
    "    Budget_Profit decimal,\n",
    "    Budget_COGS decimal,\n",
    "    Budget_Margin decimal,\n",
    "    Budget_Sales decimal,\n",
    "    Date TIMESTAMP,\n",
    "    PRIMARY KEY(TransactionId),\n",
    "    FOREIGN KEY(Area_Code) REFERENCES Dim_Geo (Area_Code),\n",
    "    FOREIGN KEY(ProductId) REFERENCES Dim_Product (ProductId)\n",
    ")\n",
    "\"\"\")\n",
    "conn.commit()"
   ]
  },
  {
   "cell_type": "code",
   "execution_count": 90,
   "metadata": {},
   "outputs": [],
   "source": [
    "import numpy as np\n",
    "import psycopg2.extras as extras\n",
    "def execute_values(conn, df, table):\n",
    "  \n",
    "    tuples = [tuple(x) for x in df.to_numpy()]\n",
    "  \n",
    "    cols = ','.join(list(df.columns))\n",
    "    # SQL query to execute\n",
    "    query = \"INSERT INTO %s(%s) VALUES %%s\" % (table, cols)\n",
    "    cursor = conn.cursor()\n",
    "    try:\n",
    "        extras.execute_values(cursor, query, tuples)\n",
    "        conn.commit()\n",
    "    except (Exception, psycopg2.DatabaseError) as error:\n",
    "        print(\"Error: %s\" % error)\n",
    "        conn.rollback()\n",
    "        cursor.close()\n",
    "        return 1\n",
    "    print(\"the dataframe is inserted\")\n",
    "    cursor.close()\n",
    "  \n",
    "  \n",
    "conn= psycopg2.connect(\"host= localhost dbname = PROJECT_PIPELINE user = etl password = demopass\" )\n"
   ]
  },
  {
   "cell_type": "code",
   "execution_count": 91,
   "metadata": {},
   "outputs": [
    {
     "name": "stdout",
     "output_type": "stream",
     "text": [
      "the dataframe is inserted\n",
      "the dataframe is inserted\n",
      "the dataframe is inserted\n"
     ]
    }
   ],
   "source": [
    "execute_values(conn, Geo, 'Dim_Geo')\n",
    "execute_values(conn, Product, 'Dim_Product')\n",
    "execute_values(conn, Transactions, 'Transactions')\n",
    "\n"
   ]
  }
 ],
 "metadata": {
  "kernelspec": {
   "display_name": "Python 3.9.13 ('env': venv)",
   "language": "python",
   "name": "python3"
  },
  "language_info": {
   "codemirror_mode": {
    "name": "ipython",
    "version": 3
   },
   "file_extension": ".py",
   "mimetype": "text/x-python",
   "name": "python",
   "nbconvert_exporter": "python",
   "pygments_lexer": "ipython3",
   "version": "3.9.13"
  },
  "orig_nbformat": 4,
  "vscode": {
   "interpreter": {
    "hash": "4e930e004a7fff688e105a3af80f7c5e07f11a1d1a6d9d367b32304534a2e861"
   }
  }
 },
 "nbformat": 4,
 "nbformat_minor": 2
}
